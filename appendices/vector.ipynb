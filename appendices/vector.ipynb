{
 "cells": [
  {
   "cell_type": "code",
   "execution_count": 1,
   "id": "6f38a5c9-aa94-4458-bae6-d9a917efea70",
   "metadata": {},
   "outputs": [],
   "source": [
    "from sympy import *\n",
    "from sympy.vector import *\n",
    "# read https://zhuanlan.zhihu.com/p/602203727 for more examples"
   ]
  },
  {
   "cell_type": "code",
   "execution_count": 2,
   "id": "e3664108-df4d-41ab-9ad0-8b9392f4bb14",
   "metadata": {},
   "outputs": [
    {
     "data": {
      "text/latex": [
       "$\\displaystyle \\operatorname{CoordSys3D}\\left(N, \\left( \\left[\\begin{matrix}1 & 0 & 0\\\\0 & 1 & 0\\\\0 & 0 & 1\\end{matrix}\\right], \\  \\mathbf{\\hat{0}}\\right)\\right)$"
      ],
      "text/plain": [
       "N"
      ]
     },
     "execution_count": 2,
     "metadata": {},
     "output_type": "execute_result"
    }
   ],
   "source": [
    "# define a 3-D Descartes coordinator\n",
    "N = CoordSys3D('N')\n",
    "N"
   ]
  },
  {
   "cell_type": "code",
   "execution_count": 3,
   "id": "ef36e8cc-1f03-44f6-be42-f1119f0fdfeb",
   "metadata": {},
   "outputs": [
    {
     "data": {
      "text/latex": [
       "$\\displaystyle \\mathbf{\\hat{j}_{N}}$"
      ],
      "text/plain": [
       "N.j"
      ]
     },
     "execution_count": 3,
     "metadata": {},
     "output_type": "execute_result"
    }
   ],
   "source": [
    "N.j"
   ]
  },
  {
   "cell_type": "code",
   "execution_count": 4,
   "id": "7272b385-90e9-406c-a67e-dd3f2e8b89b3",
   "metadata": {},
   "outputs": [
    {
     "data": {
      "text/latex": [
       "$\\displaystyle \\mathbf{\\hat{0}}$"
      ],
      "text/plain": [
       "0"
      ]
     },
     "execution_count": 4,
     "metadata": {},
     "output_type": "execute_result"
    }
   ],
   "source": [
    "Vector.zero"
   ]
  },
  {
   "cell_type": "code",
   "execution_count": 6,
   "id": "5baecd84-566a-46dd-b8bb-dcba9e3a7fc1",
   "metadata": {},
   "outputs": [
    {
     "data": {
      "text/plain": [
       "True"
      ]
     },
     "execution_count": 6,
     "metadata": {},
     "output_type": "execute_result"
    }
   ],
   "source": [
    "# multiple of zero vector is itself\n",
    "Vector.zero == 2*Vector.zero"
   ]
  },
  {
   "cell_type": "code",
   "execution_count": null,
   "id": "1db24b98-8bfe-42cc-97ec-74a516f53204",
   "metadata": {},
   "outputs": [],
   "source": [
    "a_i,a_j,a_k=symbols('a_i,a_j,a_k',real=True)\n",
    "b_i,b_j,b_k=symbols('b_i,b_j,b_k',real=True)\n",
    "a = a_i*N.i + a_j*N.j + a_k*N.k\n",
    "b = b_i*N.i + b_j*N.j + b_k*N.k"
   ]
  },
  {
   "cell_type": "code",
   "execution_count": 11,
   "id": "a954e1ea-c88b-4cfe-afe9-0ede05ff3d87",
   "metadata": {},
   "outputs": [
    {
     "data": {
      "text/latex": [
       "$\\displaystyle a_{i} b_{i} + a_{j} b_{j} + a_{k} b_{k}$"
      ],
      "text/plain": [
       "a_i*b_i + a_j*b_j + a_k*b_k"
      ]
     },
     "execution_count": 11,
     "metadata": {},
     "output_type": "execute_result"
    }
   ],
   "source": [
    "# dot operation\n",
    "a.dot(b)"
   ]
  },
  {
   "cell_type": "code",
   "execution_count": 10,
   "id": "c2511a41-70d9-4cf3-af2e-039742eb4e04",
   "metadata": {},
   "outputs": [
    {
     "data": {
      "text/latex": [
       "$\\displaystyle \\left(a_{j} b_{k} - a_{k} b_{j}\\right)\\mathbf{\\hat{i}_{N}} + \\left(- a_{i} b_{k} + a_{k} b_{i}\\right)\\mathbf{\\hat{j}_{N}} + \\left(a_{i} b_{j} - a_{j} b_{i}\\right)\\mathbf{\\hat{k}_{N}}$"
      ],
      "text/plain": [
       "(a_j*b_k - a_k*b_j)*N.i + (-a_i*b_k + a_k*b_i)*N.j + (a_i*b_j - a_j*b_i)*N.k"
      ]
     },
     "execution_count": 10,
     "metadata": {},
     "output_type": "execute_result"
    }
   ],
   "source": [
    "# cross operation\n",
    "a.cross(b)"
   ]
  },
  {
   "cell_type": "code",
   "execution_count": 12,
   "id": "908597b1-3dcd-40a2-aa15-31e5ac2468e4",
   "metadata": {},
   "outputs": [
    {
     "data": {
      "text/latex": [
       "$\\displaystyle \\sqrt{a_{i}^{2} + a_{j}^{2} + a_{k}^{2}}$"
      ],
      "text/plain": [
       "sqrt(a_i**2 + a_j**2 + a_k**2)"
      ]
     },
     "execution_count": 12,
     "metadata": {},
     "output_type": "execute_result"
    }
   ],
   "source": [
    "a.magnitude()"
   ]
  },
  {
   "cell_type": "code",
   "execution_count": 13,
   "id": "383abafd-5057-4c8d-8120-c7f63e273c11",
   "metadata": {},
   "outputs": [
    {
     "data": {
      "text/latex": [
       "$\\displaystyle \\left(\\frac{a_{i}}{\\sqrt{a_{i}^{2} + a_{j}^{2} + a_{k}^{2}}}\\right)\\mathbf{\\hat{i}_{N}} + \\left(\\frac{a_{j}}{\\sqrt{a_{i}^{2} + a_{j}^{2} + a_{k}^{2}}}\\right)\\mathbf{\\hat{j}_{N}} + \\left(\\frac{a_{k}}{\\sqrt{a_{i}^{2} + a_{j}^{2} + a_{k}^{2}}}\\right)\\mathbf{\\hat{k}_{N}}$"
      ],
      "text/plain": [
       "(a_i/sqrt(a_i**2 + a_j**2 + a_k**2))*N.i + (a_j/sqrt(a_i**2 + a_j**2 + a_k**2))*N.j + (a_k/sqrt(a_i**2 + a_j**2 + a_k**2))*N.k"
      ]
     },
     "execution_count": 13,
     "metadata": {},
     "output_type": "execute_result"
    }
   ],
   "source": [
    "a.normalize()"
   ]
  },
  {
   "cell_type": "code",
   "execution_count": null,
   "id": "7a5e047b-3325-4e55-b08d-5da7d0b38320",
   "metadata": {},
   "outputs": [],
   "source": []
  }
 ],
 "metadata": {
  "kernelspec": {
   "display_name": "Python 3 (ipykernel)",
   "language": "python",
   "name": "python3"
  },
  "language_info": {
   "codemirror_mode": {
    "name": "ipython",
    "version": 3
   },
   "file_extension": ".py",
   "mimetype": "text/x-python",
   "name": "python",
   "nbconvert_exporter": "python",
   "pygments_lexer": "ipython3",
   "version": "3.12.2"
  }
 },
 "nbformat": 4,
 "nbformat_minor": 5
}
