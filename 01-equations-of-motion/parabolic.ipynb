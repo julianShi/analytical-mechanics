{
 "cells": [
  {
   "cell_type": "code",
   "execution_count": 1,
   "id": "7905c391-4a45-4cbf-b585-4c68c6290110",
   "metadata": {},
   "outputs": [],
   "source": [
    "from sympy.physics.mechanics import *\n",
    "# Define the general independent coordinates in the Lagrange equation\n",
    "x, y = dynamicsymbols('x y')\n",
    "# Define the general independent vectors in the Lagrange equation\n",
    "x_dot, y_dot = dynamicsymbols('x y', 1)"
   ]
  },
  {
   "cell_type": "code",
   "execution_count": 2,
   "id": "a38b99ad-764d-4d03-85c9-97b0413d3236",
   "metadata": {},
   "outputs": [],
   "source": [
    "from sympy import *\n",
    "# Define the positive coefficients\n",
    "m, g = symbols('m g', real = True, positive = True)"
   ]
  },
  {
   "cell_type": "code",
   "execution_count": 3,
   "id": "4586a770-5d7f-4d37-b210-7d6fbc5d55db",
   "metadata": {},
   "outputs": [
    {
     "data": {
      "text/latex": [
       "$\\displaystyle \\frac{m \\left(\\left(\\frac{d}{d t} x{\\left(t \\right)}\\right)^{2} + \\left(\\frac{d}{d t} y{\\left(t \\right)}\\right)^{2}\\right)}{2}$"
      ],
      "text/plain": [
       "m*(Derivative(x(t), t)**2 + Derivative(y(t), t)**2)/2"
      ]
     },
     "execution_count": 3,
     "metadata": {},
     "output_type": "execute_result"
    }
   ],
   "source": [
    "# Define the kinematic energy\n",
    "T = m * (x_dot ** 2 + y_dot ** 2) / 2\n",
    "T"
   ]
  },
  {
   "cell_type": "code",
   "execution_count": 4,
   "id": "25eac0bf-7505-4a59-a821-6f55fe16dccb",
   "metadata": {},
   "outputs": [
    {
     "data": {
      "text/latex": [
       "$\\displaystyle g m y{\\left(t \\right)}$"
      ],
      "text/plain": [
       "g*m*y(t)"
      ]
     },
     "execution_count": 4,
     "metadata": {},
     "output_type": "execute_result"
    }
   ],
   "source": [
    "# Define the potential energy of planets in 3-D universe\n",
    "U = g * m * y\n",
    "U"
   ]
  },
  {
   "cell_type": "code",
   "execution_count": 5,
   "id": "edb8af24-2abf-4d93-98cc-c032a52b6a85",
   "metadata": {},
   "outputs": [
    {
     "data": {
      "text/latex": [
       "$\\displaystyle - g m y{\\left(t \\right)} + \\frac{m \\left(\\left(\\frac{d}{d t} x{\\left(t \\right)}\\right)^{2} + \\left(\\frac{d}{d t} y{\\left(t \\right)}\\right)^{2}\\right)}{2}$"
      ],
      "text/plain": [
       "-g*m*y(t) + m*(Derivative(x(t), t)**2 + Derivative(y(t), t)**2)/2"
      ]
     },
     "execution_count": 5,
     "metadata": {},
     "output_type": "execute_result"
    }
   ],
   "source": [
    "# The Lagrange function (total energy)\n",
    "L = T - U \n",
    "L"
   ]
  },
  {
   "cell_type": "code",
   "execution_count": 7,
   "id": "2dc0d637-f830-4df2-aee9-b8f34319e43c",
   "metadata": {},
   "outputs": [
    {
     "data": {
      "text/plain": [
       "<sympy.physics.mechanics.lagrange.LagrangesMethod at 0x107b738f0>"
      ]
     },
     "execution_count": 7,
     "metadata": {},
     "output_type": "execute_result"
    }
   ],
   "source": [
    "# Define the lagrange method\n",
    "LM = LagrangesMethod(L, [x, y])\n",
    "LM"
   ]
  },
  {
   "cell_type": "code",
   "execution_count": 8,
   "id": "6b986089-26a4-49e0-89c1-c280d0013ca4",
   "metadata": {},
   "outputs": [
    {
     "data": {
      "text/latex": [
       "$\\displaystyle \\left[\\begin{matrix}m \\frac{d^{2}}{d t^{2}} x{\\left(t \\right)}\\\\g m + m \\frac{d^{2}}{d t^{2}} y{\\left(t \\right)}\\end{matrix}\\right]$"
      ],
      "text/plain": [
       "Matrix([\n",
       "[      m*Derivative(x(t), (t, 2))],\n",
       "[g*m + m*Derivative(y(t), (t, 2))]])"
      ]
     },
     "execution_count": 8,
     "metadata": {},
     "output_type": "execute_result"
    }
   ],
   "source": [
    "# Calculate Lagrante equations\n",
    "l_eqs = LM.form_lagranges_equations()\n",
    "l_eqs"
   ]
  },
  {
   "cell_type": "code",
   "execution_count": 12,
   "id": "fd93bc66-d9b7-4ac3-8068-8b4dbe3a1004",
   "metadata": {},
   "outputs": [
    {
     "data": {
      "text/latex": [
       "$\\displaystyle x{\\left(t \\right)} = C_{1} + C_{2} t$"
      ],
      "text/plain": [
       "Eq(x(t), C1 + C2*t)"
      ]
     },
     "execution_count": 12,
     "metadata": {},
     "output_type": "execute_result"
    }
   ],
   "source": [
    "# The vertical speed is constant\n",
    "t = symbols('t', real=True)\n",
    "dsolve(Eq(l_eqs[0],0),x)"
   ]
  },
  {
   "cell_type": "code",
   "execution_count": 13,
   "id": "8a7a42bb-371e-4eed-8708-3e2ca1460102",
   "metadata": {},
   "outputs": [
    {
     "data": {
      "text/latex": [
       "$\\displaystyle y{\\left(t \\right)} = C_{1} + C_{2} t - \\frac{g t^{2}}{2}$"
      ],
      "text/plain": [
       "Eq(y(t), C1 + C2*t - g*t**2/2)"
      ]
     },
     "execution_count": 13,
     "metadata": {},
     "output_type": "execute_result"
    }
   ],
   "source": [
    "# The curve is parabolic\n",
    "dsolve(l_eqs[1],y)"
   ]
  },
  {
   "cell_type": "code",
   "execution_count": null,
   "id": "efe3a08f-e1be-41e2-8238-c01bdab64e0f",
   "metadata": {},
   "outputs": [],
   "source": []
  }
 ],
 "metadata": {
  "kernelspec": {
   "display_name": "Python 3 (ipykernel)",
   "language": "python",
   "name": "python3"
  },
  "language_info": {
   "codemirror_mode": {
    "name": "ipython",
    "version": 3
   },
   "file_extension": ".py",
   "mimetype": "text/x-python",
   "name": "python",
   "nbconvert_exporter": "python",
   "pygments_lexer": "ipython3",
   "version": "3.12.2"
  }
 },
 "nbformat": 4,
 "nbformat_minor": 5
}
