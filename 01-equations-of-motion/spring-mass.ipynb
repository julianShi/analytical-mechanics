{
 "cells": [
  {
   "cell_type": "code",
   "execution_count": 1,
   "id": "7905c391-4a45-4cbf-b585-4c68c6290110",
   "metadata": {},
   "outputs": [],
   "source": [
    "from sympy.physics.mechanics import *\n",
    "# Define the general independent coordinates in the Lagrange equation\n",
    "r, theta = dynamicsymbols('r theta')\n",
    "# Define the general independent vectors in the Lagrange equation\n",
    "r_dot, theta_dot = dynamicsymbols('r theta', 1)"
   ]
  },
  {
   "cell_type": "code",
   "execution_count": 2,
   "id": "a38b99ad-764d-4d03-85c9-97b0413d3236",
   "metadata": {},
   "outputs": [],
   "source": [
    "from sympy import *\n",
    "# Define the positive coefficients\n",
    "m, k = symbols('m k', real = True, positive = True)"
   ]
  },
  {
   "cell_type": "code",
   "execution_count": 3,
   "id": "4586a770-5d7f-4d37-b210-7d6fbc5d55db",
   "metadata": {},
   "outputs": [
    {
     "data": {
      "text/latex": [
       "$\\displaystyle \\frac{m \\left(r^{2}{\\left(t \\right)} \\left(\\frac{d}{d t} \\theta{\\left(t \\right)}\\right)^{2} + \\left(\\frac{d}{d t} r{\\left(t \\right)}\\right)^{2}\\right)}{2}$"
      ],
      "text/plain": [
       "m*(r(t)**2*Derivative(theta(t), t)**2 + Derivative(r(t), t)**2)/2"
      ]
     },
     "execution_count": 3,
     "metadata": {},
     "output_type": "execute_result"
    }
   ],
   "source": [
    "# Define the kinematic energy\n",
    "T = m * (r_dot ** 2 + r ** 2 * theta_dot ** 2) / 2\n",
    "T"
   ]
  },
  {
   "cell_type": "code",
   "execution_count": 4,
   "id": "25eac0bf-7505-4a59-a821-6f55fe16dccb",
   "metadata": {},
   "outputs": [
    {
     "data": {
      "text/latex": [
       "$\\displaystyle \\frac{k r^{2}{\\left(t \\right)}}{2}$"
      ],
      "text/plain": [
       "k*r(t)**2/2"
      ]
     },
     "execution_count": 4,
     "metadata": {},
     "output_type": "execute_result"
    }
   ],
   "source": [
    "# Define the potential energy of planets in 3-D universe\n",
    "U = k * r ** 2 / 2\n",
    "U"
   ]
  },
  {
   "cell_type": "code",
   "execution_count": 5,
   "id": "edb8af24-2abf-4d93-98cc-c032a52b6a85",
   "metadata": {},
   "outputs": [
    {
     "data": {
      "text/latex": [
       "$\\displaystyle - \\frac{k r^{2}{\\left(t \\right)}}{2} + \\frac{m \\left(r^{2}{\\left(t \\right)} \\left(\\frac{d}{d t} \\theta{\\left(t \\right)}\\right)^{2} + \\left(\\frac{d}{d t} r{\\left(t \\right)}\\right)^{2}\\right)}{2}$"
      ],
      "text/plain": [
       "-k*r(t)**2/2 + m*(r(t)**2*Derivative(theta(t), t)**2 + Derivative(r(t), t)**2)/2"
      ]
     },
     "execution_count": 5,
     "metadata": {},
     "output_type": "execute_result"
    }
   ],
   "source": [
    "# The Lagrange function (total energy)\n",
    "L = T - U \n",
    "L"
   ]
  },
  {
   "cell_type": "code",
   "execution_count": 6,
   "id": "2dc0d637-f830-4df2-aee9-b8f34319e43c",
   "metadata": {},
   "outputs": [
    {
     "data": {
      "text/plain": [
       "<sympy.physics.mechanics.lagrange.LagrangesMethod at 0x10923ba10>"
      ]
     },
     "execution_count": 6,
     "metadata": {},
     "output_type": "execute_result"
    }
   ],
   "source": [
    "# Define the lagrange method\n",
    "LM = LagrangesMethod(L, [r, theta])\n",
    "LM"
   ]
  },
  {
   "cell_type": "code",
   "execution_count": 7,
   "id": "6b986089-26a4-49e0-89c1-c280d0013ca4",
   "metadata": {},
   "outputs": [
    {
     "data": {
      "text/latex": [
       "$\\displaystyle \\left[\\begin{matrix}k r{\\left(t \\right)} - m r{\\left(t \\right)} \\left(\\frac{d}{d t} \\theta{\\left(t \\right)}\\right)^{2} + m \\frac{d^{2}}{d t^{2}} r{\\left(t \\right)}\\\\m r^{2}{\\left(t \\right)} \\frac{d^{2}}{d t^{2}} \\theta{\\left(t \\right)} + 2 m r{\\left(t \\right)} \\frac{d}{d t} r{\\left(t \\right)} \\frac{d}{d t} \\theta{\\left(t \\right)}\\end{matrix}\\right]$"
      ],
      "text/plain": [
       "Matrix([\n",
       "[                      k*r(t) - m*r(t)*Derivative(theta(t), t)**2 + m*Derivative(r(t), (t, 2))],\n",
       "[m*r(t)**2*Derivative(theta(t), (t, 2)) + 2*m*r(t)*Derivative(r(t), t)*Derivative(theta(t), t)]])"
      ]
     },
     "execution_count": 7,
     "metadata": {},
     "output_type": "execute_result"
    }
   ],
   "source": [
    "# Calculate Lagrante equations\n",
    "l_eqs = LM.form_lagranges_equations()\n",
    "l_eqs"
   ]
  },
  {
   "cell_type": "code",
   "execution_count": 8,
   "id": "ce3f2489-70ec-44ad-a3cb-2dc5db5ee98a",
   "metadata": {},
   "outputs": [
    {
     "data": {
      "text/latex": [
       "$\\displaystyle m \\left(r{\\left(t \\right)} \\frac{d^{2}}{d t^{2}} \\theta{\\left(t \\right)} + 2 \\frac{d}{d t} r{\\left(t \\right)} \\frac{d}{d t} \\theta{\\left(t \\right)}\\right) r{\\left(t \\right)}$"
      ],
      "text/plain": [
       "m*(r(t)*Derivative(theta(t), (t, 2)) + 2*Derivative(r(t), t)*Derivative(theta(t), t))*r(t)"
      ]
     },
     "execution_count": 8,
     "metadata": {},
     "output_type": "execute_result"
    }
   ],
   "source": [
    "# The conservative angular momentum\n",
    "simplify(l_eqs[1])"
   ]
  },
  {
   "cell_type": "code",
   "execution_count": null,
   "id": "fd93bc66-d9b7-4ac3-8068-8b4dbe3a1004",
   "metadata": {},
   "outputs": [],
   "source": []
  }
 ],
 "metadata": {
  "kernelspec": {
   "display_name": "Python 3 (ipykernel)",
   "language": "python",
   "name": "python3"
  },
  "language_info": {
   "codemirror_mode": {
    "name": "ipython",
    "version": 3
   },
   "file_extension": ".py",
   "mimetype": "text/x-python",
   "name": "python",
   "nbconvert_exporter": "python",
   "pygments_lexer": "ipython3",
   "version": "3.12.2"
  }
 },
 "nbformat": 4,
 "nbformat_minor": 5
}
