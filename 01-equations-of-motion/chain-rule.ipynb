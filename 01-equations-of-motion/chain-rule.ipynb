{
 "cells": [
  {
   "cell_type": "code",
   "execution_count": 84,
   "id": "7548e48d-2344-4012-be90-b697544d8f37",
   "metadata": {},
   "outputs": [],
   "source": [
    "from sympy import *\n",
    "\n",
    "# Define the variables\n",
    "r, theta, t = symbols('r theta t', real=True)\n",
    "M0, m = symbols('M_0 m', positive=True)\n",
    "\n",
    "# There is a great number of variable substitution work in theoretical physics\n",
    "# This can be achieved by the subs function in sympy"
   ]
  },
  {
   "cell_type": "code",
   "execution_count": 85,
   "id": "b998e3a2-5f3c-4cde-ab45-d91803903db0",
   "metadata": {},
   "outputs": [
    {
     "data": {
      "text/latex": [
       "$\\displaystyle r{\\left(\\theta{\\left(t \\right)} \\right)}$"
      ],
      "text/plain": [
       "r(theta(t))"
      ]
     },
     "execution_count": 85,
     "metadata": {},
     "output_type": "execute_result"
    }
   ],
   "source": [
    "# Define the theta as a function of t\n",
    "# This is important because theta is not a variable independent from t\n",
    "theta_func = Function('theta')(t)\n",
    "# Define the r as a function of theta\n",
    "r_func = Function('r')(theta_func)\n",
    "r_func"
   ]
  },
  {
   "cell_type": "code",
   "execution_count": 86,
   "id": "9674a8b7-3d84-4b2b-b76b-70fca8561947",
   "metadata": {},
   "outputs": [
    {
     "data": {
      "text/latex": [
       "$\\displaystyle \\frac{d}{d t} \\theta{\\left(t \\right)}$"
      ],
      "text/plain": [
       "Derivative(theta(t), t)"
      ]
     },
     "execution_count": 86,
     "metadata": {},
     "output_type": "execute_result"
    }
   ],
   "source": [
    "theta_func_dot = diff(theta_func, t)\n",
    "theta_func_dot"
   ]
  },
  {
   "cell_type": "code",
   "execution_count": 87,
   "id": "12325fee-3b00-4ebc-8b0c-7523f8f91073",
   "metadata": {},
   "outputs": [
    {
     "data": {
      "text/latex": [
       "$\\displaystyle \\frac{M_{0} \\frac{d}{d \\theta{\\left(t \\right)}} r{\\left(\\theta{\\left(t \\right)} \\right)}}{m r^{2}{\\left(\\theta{\\left(t \\right)} \\right)}}$"
      ],
      "text/plain": [
       "M_0*Derivative(r(theta(t)), theta(t))/(m*r(theta(t))**2)"
      ]
     },
     "execution_count": 87,
     "metadata": {},
     "output_type": "execute_result"
    }
   ],
   "source": [
    "# Calculate the first derivative against t, and substitute with the angular momentum equation\n",
    "r_dot = diff(r_func,t).subs(theta_func_dot,M0 / (m * r_func**2))\n",
    "r_dot"
   ]
  },
  {
   "cell_type": "code",
   "execution_count": 88,
   "id": "44de99cb-f475-4c89-9f33-01de1776ea20",
   "metadata": {},
   "outputs": [
    {
     "data": {
      "text/latex": [
       "$\\displaystyle \\frac{M_{0}^{2} \\frac{d^{2}}{d \\theta{\\left(t \\right)}^{2}} r{\\left(\\theta{\\left(t \\right)} \\right)}}{m^{2} r^{4}{\\left(\\theta{\\left(t \\right)} \\right)}} - \\frac{2 M_{0}^{2} \\left(\\frac{d}{d \\theta{\\left(t \\right)}} r{\\left(\\theta{\\left(t \\right)} \\right)}\\right)^{2}}{m^{2} r^{5}{\\left(\\theta{\\left(t \\right)} \\right)}}$"
      ],
      "text/plain": [
       "M_0**2*Derivative(r(theta(t)), (theta(t), 2))/(m**2*r(theta(t))**4) - 2*M_0**2*Derivative(r(theta(t)), theta(t))**2/(m**2*r(theta(t))**5)"
      ]
     },
     "execution_count": 88,
     "metadata": {},
     "output_type": "execute_result"
    }
   ],
   "source": [
    "# Calculate the second derivative against t, and substitute with the angular momentum equation\n",
    "r_ddot = diff(r_dot,t).subs(theta_func_dot,M0 / (m * r_func**2))\n",
    "r_ddot"
   ]
  },
  {
   "cell_type": "code",
   "execution_count": 89,
   "id": "d6961ca7-aa44-46f5-83a7-fea61ffd5992",
   "metadata": {},
   "outputs": [
    {
     "data": {
      "text/latex": [
       "$\\displaystyle \\frac{M_{0}^{2} \\frac{d^{2}}{d \\theta^{2}} r{\\left(\\theta \\right)}}{m^{2} r^{4}{\\left(\\theta \\right)}} - \\frac{2 M_{0}^{2} \\left(\\frac{d}{d \\theta} r{\\left(\\theta \\right)}\\right)^{2}}{m^{2} r^{5}{\\left(\\theta \\right)}}$"
      ],
      "text/plain": [
       "M_0**2*Derivative(r(theta), (theta, 2))/(m**2*r(theta)**4) - 2*M_0**2*Derivative(r(theta), theta)**2/(m**2*r(theta)**5)"
      ]
     },
     "execution_count": 89,
     "metadata": {},
     "output_type": "execute_result"
    }
   ],
   "source": [
    "# Prettify the solution\n",
    "r_ddot_theta = r_ddot.subs(theta_func, theta)\n",
    "r_ddot_theta\n",
    "# Till now, we've removed t, and made theta the only independent variable\n",
    "# It's still not easy to calculate this equation. We'll make a replacement later"
   ]
  },
  {
   "cell_type": "code",
   "execution_count": 90,
   "id": "6c00182c-7192-401d-be9a-accc078b4359",
   "metadata": {},
   "outputs": [],
   "source": [
    "# This is the second section where we replace r with u\n",
    "u = Function('u')(theta)\n",
    "r2 = 1/u"
   ]
  },
  {
   "cell_type": "code",
   "execution_count": 91,
   "id": "566710ad-a0a2-4622-a296-b3f948caafac",
   "metadata": {},
   "outputs": [
    {
     "data": {
      "text/latex": [
       "$\\displaystyle - \\frac{\\frac{d}{d \\theta} u{\\left(\\theta \\right)}}{u^{2}{\\left(\\theta \\right)}}$"
      ],
      "text/plain": [
       "-Derivative(u(theta), theta)/u(theta)**2"
      ]
     },
     "execution_count": 91,
     "metadata": {},
     "output_type": "execute_result"
    }
   ],
   "source": [
    "# First derivative\n",
    "r2_dot = diff(r2, theta)\n",
    "r2_dot"
   ]
  },
  {
   "cell_type": "code",
   "execution_count": 92,
   "id": "5e78d3b5-a342-4822-bfbe-296982eff3a1",
   "metadata": {},
   "outputs": [
    {
     "data": {
      "text/latex": [
       "$\\displaystyle - \\frac{\\frac{d^{2}}{d \\theta^{2}} u{\\left(\\theta \\right)}}{u^{2}{\\left(\\theta \\right)}} + \\frac{2 \\left(\\frac{d}{d \\theta} u{\\left(\\theta \\right)}\\right)^{2}}{u^{3}{\\left(\\theta \\right)}}$"
      ],
      "text/plain": [
       "-Derivative(u(theta), (theta, 2))/u(theta)**2 + 2*Derivative(u(theta), theta)**2/u(theta)**3"
      ]
     },
     "execution_count": 92,
     "metadata": {},
     "output_type": "execute_result"
    }
   ],
   "source": [
    "# Second derivative\n",
    "r2_ddot = diff(r2_dot, theta)\n",
    "r2_ddot"
   ]
  },
  {
   "cell_type": "code",
   "execution_count": 93,
   "id": "389cb557-e6f5-4a2c-8057-1af82678ea4e",
   "metadata": {},
   "outputs": [
    {
     "data": {
      "text/latex": [
       "$\\displaystyle \\frac{d^{2}}{d \\theta^{2}} r{\\left(\\theta \\right)}$"
      ],
      "text/plain": [
       "Derivative(r(theta), (theta, 2))"
      ]
     },
     "execution_count": 93,
     "metadata": {},
     "output_type": "execute_result"
    }
   ],
   "source": [
    "# We define this temporary function, as to replace it at the end\n",
    "r3 = Function('r')(theta)\n",
    "r3_ddot = diff(diff(r3,theta),theta)\n",
    "r3_ddot"
   ]
  },
  {
   "cell_type": "code",
   "execution_count": 94,
   "id": "dd187fea-564b-4e04-ac06-aeb85c09db65",
   "metadata": {},
   "outputs": [
    {
     "data": {
      "text/latex": [
       "$\\displaystyle \\frac{M_{0}^{2} \\left(- \\frac{\\frac{d^{2}}{d \\theta^{2}} u{\\left(\\theta \\right)}}{u^{2}{\\left(\\theta \\right)}} + \\frac{2 \\left(\\frac{d}{d \\theta} u{\\left(\\theta \\right)}\\right)^{2}}{u^{3}{\\left(\\theta \\right)}}\\right) u^{4}{\\left(\\theta \\right)}}{m^{2}} - \\frac{2 M_{0}^{2} u^{5}{\\left(\\theta \\right)} \\left(\\frac{d}{d \\theta} \\frac{1}{u{\\left(\\theta \\right)}}\\right)^{2}}{m^{2}}$"
      ],
      "text/plain": [
       "M_0**2*(-Derivative(u(theta), (theta, 2))/u(theta)**2 + 2*Derivative(u(theta), theta)**2/u(theta)**3)*u(theta)**4/m**2 - 2*M_0**2*u(theta)**5*Derivative(1/u(theta), theta)**2/m**2"
      ]
     },
     "execution_count": 94,
     "metadata": {},
     "output_type": "execute_result"
    }
   ],
   "source": [
    "# We replace the second derivative w.r.t r with the second derivative w.r.t u\n",
    "u_ddot_theta = r_ddot_theta.subs(r3_ddot, r2_ddot).subs(r3, r2)\n",
    "u_ddot_theta"
   ]
  },
  {
   "cell_type": "code",
   "execution_count": 95,
   "id": "9185998e-b939-4702-9077-a5bf1b4580e1",
   "metadata": {},
   "outputs": [
    {
     "data": {
      "text/latex": [
       "$\\displaystyle - \\frac{M_{0}^{2} u^{2}{\\left(\\theta \\right)} \\frac{d^{2}}{d \\theta^{2}} u{\\left(\\theta \\right)}}{m^{2}}$"
      ],
      "text/plain": [
       "-M_0**2*u(theta)**2*Derivative(u(theta), (theta, 2))/m**2"
      ]
     },
     "execution_count": 95,
     "metadata": {},
     "output_type": "execute_result"
    }
   ],
   "source": [
    "# The final solution\n",
    "simplify(u_ddot_theta)"
   ]
  },
  {
   "cell_type": "code",
   "execution_count": null,
   "id": "7c413e2b-2eb8-47b1-98e2-872cfbaadb18",
   "metadata": {},
   "outputs": [],
   "source": []
  }
 ],
 "metadata": {
  "kernelspec": {
   "display_name": "Python 3 (ipykernel)",
   "language": "python",
   "name": "python3"
  },
  "language_info": {
   "codemirror_mode": {
    "name": "ipython",
    "version": 3
   },
   "file_extension": ".py",
   "mimetype": "text/x-python",
   "name": "python",
   "nbconvert_exporter": "python",
   "pygments_lexer": "ipython3",
   "version": "3.12.2"
  }
 },
 "nbformat": 4,
 "nbformat_minor": 5
}
