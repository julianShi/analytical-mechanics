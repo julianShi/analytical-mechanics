{
 "cells": [
  {
   "cell_type": "code",
   "execution_count": 11,
   "id": "7905c391-4a45-4cbf-b585-4c68c6290110",
   "metadata": {},
   "outputs": [],
   "source": [
    "from sympy.physics.mechanics import *\n",
    "# Define the general independent coordinates in the Lagrange equation\n",
    "r, theta = dynamicsymbols('r theta')\n",
    "# Define the general independent vectors in the Lagrange equation\n",
    "r_dot, theta_dot = dynamicsymbols('r theta', 1)"
   ]
  },
  {
   "cell_type": "code",
   "execution_count": 9,
   "id": "a38b99ad-764d-4d03-85c9-97b0413d3236",
   "metadata": {},
   "outputs": [],
   "source": [
    "from sympy import *\n",
    "# Define the positive coefficients\n",
    "m, M, G, M_0 = symbols('m M G M_0', real = True, positive = True)"
   ]
  },
  {
   "cell_type": "code",
   "execution_count": 12,
   "id": "4586a770-5d7f-4d37-b210-7d6fbc5d55db",
   "metadata": {
    "scrolled": true
   },
   "outputs": [
    {
     "data": {
      "text/latex": [
       "$\\displaystyle \\frac{m \\left(r^{2}{\\left(t \\right)} \\left(\\frac{d}{d t} \\theta{\\left(t \\right)}\\right)^{2} + \\left(\\frac{d}{d t} r{\\left(t \\right)}\\right)^{2}\\right)}{2}$"
      ],
      "text/plain": [
       "m*(r(t)**2*Derivative(theta(t), t)**2 + Derivative(r(t), t)**2)/2"
      ]
     },
     "execution_count": 12,
     "metadata": {},
     "output_type": "execute_result"
    }
   ],
   "source": [
    "# Define the kinematic energy\n",
    "T = m * (r_dot ** 2 + r ** 2 * theta_dot ** 2) / 2\n",
    "T"
   ]
  },
  {
   "cell_type": "code",
   "execution_count": 13,
   "id": "25eac0bf-7505-4a59-a821-6f55fe16dccb",
   "metadata": {},
   "outputs": [
    {
     "data": {
      "text/latex": [
       "$\\displaystyle - \\frac{G M m}{r{\\left(t \\right)}}$"
      ],
      "text/plain": [
       "-G*M*m/r(t)"
      ]
     },
     "execution_count": 13,
     "metadata": {},
     "output_type": "execute_result"
    }
   ],
   "source": [
    "# Define the potential energy of planets in 3-D universe\n",
    "U = - G * M * m / r\n",
    "U"
   ]
  },
  {
   "cell_type": "code",
   "execution_count": 14,
   "id": "edb8af24-2abf-4d93-98cc-c032a52b6a85",
   "metadata": {},
   "outputs": [
    {
     "data": {
      "text/latex": [
       "$\\displaystyle \\frac{G M m}{r{\\left(t \\right)}} + \\frac{m \\left(r^{2}{\\left(t \\right)} \\left(\\frac{d}{d t} \\theta{\\left(t \\right)}\\right)^{2} + \\left(\\frac{d}{d t} r{\\left(t \\right)}\\right)^{2}\\right)}{2}$"
      ],
      "text/plain": [
       "G*M*m/r(t) + m*(r(t)**2*Derivative(theta(t), t)**2 + Derivative(r(t), t)**2)/2"
      ]
     },
     "execution_count": 14,
     "metadata": {},
     "output_type": "execute_result"
    }
   ],
   "source": [
    "# The Lagrange function (total energy)\n",
    "L = T - U \n",
    "L"
   ]
  },
  {
   "cell_type": "code",
   "execution_count": 15,
   "id": "2dc0d637-f830-4df2-aee9-b8f34319e43c",
   "metadata": {},
   "outputs": [
    {
     "data": {
      "text/plain": [
       "<sympy.physics.mechanics.lagrange.LagrangesMethod at 0x107432720>"
      ]
     },
     "execution_count": 15,
     "metadata": {},
     "output_type": "execute_result"
    }
   ],
   "source": [
    "# Define the lagrange method\n",
    "LM = LagrangesMethod(L, [r, theta])\n",
    "LM"
   ]
  },
  {
   "cell_type": "code",
   "execution_count": 16,
   "id": "6b986089-26a4-49e0-89c1-c280d0013ca4",
   "metadata": {},
   "outputs": [
    {
     "data": {
      "text/latex": [
       "$\\displaystyle \\left[\\begin{matrix}\\frac{G M m}{r^{2}{\\left(t \\right)}} - m r{\\left(t \\right)} \\left(\\frac{d}{d t} \\theta{\\left(t \\right)}\\right)^{2} + m \\frac{d^{2}}{d t^{2}} r{\\left(t \\right)}\\\\m r^{2}{\\left(t \\right)} \\frac{d^{2}}{d t^{2}} \\theta{\\left(t \\right)} + 2 m r{\\left(t \\right)} \\frac{d}{d t} r{\\left(t \\right)} \\frac{d}{d t} \\theta{\\left(t \\right)}\\end{matrix}\\right]$"
      ],
      "text/plain": [
       "Matrix([\n",
       "[               G*M*m/r(t)**2 - m*r(t)*Derivative(theta(t), t)**2 + m*Derivative(r(t), (t, 2))],\n",
       "[m*r(t)**2*Derivative(theta(t), (t, 2)) + 2*m*r(t)*Derivative(r(t), t)*Derivative(theta(t), t)]])"
      ]
     },
     "execution_count": 16,
     "metadata": {},
     "output_type": "execute_result"
    }
   ],
   "source": [
    "# Calculate Lagrante equations\n",
    "l_eqs = LM.form_lagranges_equations()\n",
    "l_eqs"
   ]
  },
  {
   "cell_type": "code",
   "execution_count": 17,
   "id": "ce3f2489-70ec-44ad-a3cb-2dc5db5ee98a",
   "metadata": {},
   "outputs": [
    {
     "data": {
      "text/latex": [
       "$\\displaystyle m \\left(r{\\left(t \\right)} \\frac{d^{2}}{d t^{2}} \\theta{\\left(t \\right)} + 2 \\frac{d}{d t} r{\\left(t \\right)} \\frac{d}{d t} \\theta{\\left(t \\right)}\\right) r{\\left(t \\right)}$"
      ],
      "text/plain": [
       "m*(r(t)*Derivative(theta(t), (t, 2)) + 2*Derivative(r(t), t)*Derivative(theta(t), t))*r(t)"
      ]
     },
     "execution_count": 17,
     "metadata": {},
     "output_type": "execute_result"
    }
   ],
   "source": [
    "# The conservative angular momentum\n",
    "simplify(l_eqs[1])"
   ]
  },
  {
   "cell_type": "code",
   "execution_count": 19,
   "id": "4018d3e3-32f0-449b-9dda-8ddfd78f3e36",
   "metadata": {},
   "outputs": [
    {
     "data": {
      "text/latex": [
       "$\\displaystyle - \\frac{G M m}{r^{2}{\\left(t \\right)}}$"
      ],
      "text/plain": [
       "-G*M*m/r(t)**2"
      ]
     },
     "execution_count": 19,
     "metadata": {},
     "output_type": "execute_result"
    }
   ],
   "source": [
    "# Define the potential energy of planets in 4-D universe\n",
    "U4 = - G * M * m / r**2\n",
    "U4"
   ]
  },
  {
   "cell_type": "code",
   "execution_count": 20,
   "id": "52bf5710-7ee4-445b-aeca-47e514ad1289",
   "metadata": {},
   "outputs": [
    {
     "data": {
      "text/latex": [
       "$\\displaystyle \\frac{G M m}{r^{2}{\\left(t \\right)}} + \\frac{m \\left(r^{2}{\\left(t \\right)} \\left(\\frac{d}{d t} \\theta{\\left(t \\right)}\\right)^{2} + \\left(\\frac{d}{d t} r{\\left(t \\right)}\\right)^{2}\\right)}{2}$"
      ],
      "text/plain": [
       "G*M*m/r(t)**2 + m*(r(t)**2*Derivative(theta(t), t)**2 + Derivative(r(t), t)**2)/2"
      ]
     },
     "execution_count": 20,
     "metadata": {},
     "output_type": "execute_result"
    }
   ],
   "source": [
    "# The Lagrange function (total energy)\n",
    "L4 = T - U4\n",
    "L4"
   ]
  },
  {
   "cell_type": "code",
   "execution_count": 21,
   "id": "b4ad3870-fa8c-4a4e-bca5-773686138b6a",
   "metadata": {},
   "outputs": [
    {
     "data": {
      "text/plain": [
       "<sympy.physics.mechanics.lagrange.LagrangesMethod at 0x107574890>"
      ]
     },
     "execution_count": 21,
     "metadata": {},
     "output_type": "execute_result"
    }
   ],
   "source": [
    "# Define the lagrange method\n",
    "LM4 = LagrangesMethod(L4, [r, theta])\n",
    "LM4"
   ]
  },
  {
   "cell_type": "code",
   "execution_count": 23,
   "id": "b79686ba-b1de-4e0e-ad26-efa840d9fb54",
   "metadata": {},
   "outputs": [
    {
     "data": {
      "text/latex": [
       "$\\displaystyle \\left[\\begin{matrix}\\frac{2 G M m}{r^{3}{\\left(t \\right)}} - m r{\\left(t \\right)} \\left(\\frac{d}{d t} \\theta{\\left(t \\right)}\\right)^{2} + m \\frac{d^{2}}{d t^{2}} r{\\left(t \\right)}\\\\m r^{2}{\\left(t \\right)} \\frac{d^{2}}{d t^{2}} \\theta{\\left(t \\right)} + 2 m r{\\left(t \\right)} \\frac{d}{d t} r{\\left(t \\right)} \\frac{d}{d t} \\theta{\\left(t \\right)}\\end{matrix}\\right]$"
      ],
      "text/plain": [
       "Matrix([\n",
       "[             2*G*M*m/r(t)**3 - m*r(t)*Derivative(theta(t), t)**2 + m*Derivative(r(t), (t, 2))],\n",
       "[m*r(t)**2*Derivative(theta(t), (t, 2)) + 2*m*r(t)*Derivative(r(t), t)*Derivative(theta(t), t)]])"
      ]
     },
     "execution_count": 23,
     "metadata": {},
     "output_type": "execute_result"
    }
   ],
   "source": [
    "# Calculate Lagrante equations\n",
    "l_eqs_4 = LM4.form_lagranges_equations()\n",
    "l_eqs_4"
   ]
  },
  {
   "cell_type": "code",
   "execution_count": 25,
   "id": "55c82954-62f2-4e20-ba2c-86ca80a9d5a9",
   "metadata": {},
   "outputs": [
    {
     "data": {
      "text/latex": [
       "$\\displaystyle m \\left(r{\\left(t \\right)} \\frac{d^{2}}{d t^{2}} \\theta{\\left(t \\right)} + 2 \\frac{d}{d t} r{\\left(t \\right)} \\frac{d}{d t} \\theta{\\left(t \\right)}\\right) r{\\left(t \\right)}$"
      ],
      "text/plain": [
       "m*(r(t)*Derivative(theta(t), (t, 2)) + 2*Derivative(r(t), t)*Derivative(theta(t), t))*r(t)"
      ]
     },
     "execution_count": 25,
     "metadata": {},
     "output_type": "execute_result"
    }
   ],
   "source": [
    "# You can read that the conservative angular momentums are the same\n",
    "# between the 3-D universe and the 4-D universe\n",
    "simplify(l_eqs_4[1])"
   ]
  },
  {
   "cell_type": "code",
   "execution_count": null,
   "id": "fd93bc66-d9b7-4ac3-8068-8b4dbe3a1004",
   "metadata": {},
   "outputs": [],
   "source": []
  }
 ],
 "metadata": {
  "kernelspec": {
   "display_name": "Python 3 (ipykernel)",
   "language": "python",
   "name": "python3"
  },
  "language_info": {
   "codemirror_mode": {
    "name": "ipython",
    "version": 3
   },
   "file_extension": ".py",
   "mimetype": "text/x-python",
   "name": "python",
   "nbconvert_exporter": "python",
   "pygments_lexer": "ipython3",
   "version": "3.12.2"
  }
 },
 "nbformat": 4,
 "nbformat_minor": 5
}
